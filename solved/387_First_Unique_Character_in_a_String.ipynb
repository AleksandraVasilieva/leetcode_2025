{
  "nbformat": 4,
  "nbformat_minor": 0,
  "metadata": {
    "colab": {
      "provenance": [],
      "toc_visible": true
    },
    "kernelspec": {
      "name": "python3",
      "display_name": "Python 3"
    },
    "language_info": {
      "name": "python"
    }
  },
  "cells": [
    {
      "cell_type": "markdown",
      "source": [
        "# 387. First Unique Character in a String\n",
        "\n",
        "\n",
        "Given a string s, find the first non-repeating character in it and return its index. If it does not exist, return -1.\n",
        "\n",
        "\n",
        "\n",
        "Example 1:\n",
        "\n",
        "Input: s = \"leetcode\"\n",
        "\n",
        "Output: 0\n",
        "\n",
        "Explanation:\n",
        "\n",
        "The character 'l' at index 0 is the first character that does not occur at any other index.\n",
        "\n",
        "Example 2:\n",
        "\n",
        "Input: s = \"loveleetcode\"\n",
        "\n",
        "Output: 2\n",
        "\n",
        "Example 3:\n",
        "\n",
        "Input: s = \"aabb\"\n",
        "\n",
        "Output: -1\n",
        "\n",
        "\n",
        "\n",
        "Constraints:\n",
        "\n",
        "1 <= s.length <= 105\n",
        "s consists of only lowercase English letter"
      ],
      "metadata": {
        "id": "909Va-tnpZiw"
      }
    },
    {
      "cell_type": "code",
      "source": [
        "s = \"leetcode\"\n",
        "s = \"loveleetcode\"\n",
        "s = \"aabb\"\n",
        "\n",
        "dict_freq = {}\n",
        "\n",
        "for i in s:\n",
        "  if i not in dict_freq.keys():\n",
        "    dict_freq[i] = s.count(i)\n",
        "\n",
        "for i, v in enumerate(s):\n",
        "  if dict_freq[v] == 1:\n",
        "    print(i)\n",
        "    break\n",
        "\n",
        "print(-1)"
      ],
      "metadata": {
        "colab": {
          "base_uri": "https://localhost:8080/"
        },
        "id": "mkANx4H2Rbj3",
        "outputId": "fbe380a7-e9b0-4215-f884-171295a8785d"
      },
      "execution_count": 23,
      "outputs": [
        {
          "output_type": "stream",
          "name": "stdout",
          "text": [
            "-1\n"
          ]
        }
      ]
    }
  ]
}