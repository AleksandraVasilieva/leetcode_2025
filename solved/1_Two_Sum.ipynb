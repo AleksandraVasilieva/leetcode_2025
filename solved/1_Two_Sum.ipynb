{
  "nbformat": 4,
  "nbformat_minor": 0,
  "metadata": {
    "colab": {
      "provenance": [],
      "toc_visible": true
    },
    "kernelspec": {
      "name": "python3",
      "display_name": "Python 3"
    },
    "language_info": {
      "name": "python"
    }
  },
  "cells": [
    {
      "cell_type": "markdown",
      "source": [
        "# 1. Two Sum\n",
        "\n",
        "Given an array of integers nums and an integer target, return indices of the two numbers such that they add up to target.\n",
        "\n",
        "You may assume that each input would have exactly one solution, and you may not use the same element twice.\n",
        "\n",
        "You can return the answer in any order.\n",
        "\n",
        "\n",
        "\n",
        "Example 1:\n",
        "\n",
        "Input: nums = [2,7,11,15], target = 9\n",
        "Output: [0,1]\n",
        "Explanation: Because nums[0] + nums[1] == 9, we return [0, 1].\n",
        "Example 2:\n",
        "\n",
        "Input: nums = [3,2,4], target = 6\n",
        "Output: [1,2]\n",
        "Example 3:\n",
        "\n",
        "Input: nums = [3,3], target = 6\n",
        "Output: [0,1]\n",
        "\n",
        "\n",
        "Constraints:\n",
        "\n",
        "2 <= nums.length <= 104\n",
        "-109 <= nums[i] <= 109\n",
        "-109 <= target <= 109\n",
        "Only one valid answer exists.\n"
      ],
      "metadata": {
        "id": "909Va-tnpZiw"
      }
    },
    {
      "cell_type": "code",
      "source": [
        "# nums = [2,7,11,15]\n",
        "# target = 9\n",
        "\n",
        "# nums = [3,2,4]\n",
        "# target = 6\n",
        "\n",
        "# nums = [3,3]\n",
        "# target = 6\n",
        "\n",
        "nums = [3,2,3]\n",
        "target = 6\n",
        "\n",
        "\n",
        "hash_map = [target - i for i in nums]\n",
        "answer = []\n",
        "\n",
        "for i, x in enumerate(nums):\n",
        "\n",
        "  residual = target - x\n",
        "\n",
        "  if residual in nums:\n",
        "    if i != nums.index(residual):\n",
        "      answer.append(i)\n",
        "      answer.append(nums.index(residual))\n",
        "\n",
        "  if len(answer) == 2:\n",
        "    break\n",
        "\n",
        "sorted(answer)"
      ],
      "metadata": {
        "colab": {
          "base_uri": "https://localhost:8080/"
        },
        "id": "mkANx4H2Rbj3",
        "outputId": "c118443b-1b3d-4787-8b92-12e2837d047a"
      },
      "execution_count": 17,
      "outputs": [
        {
          "output_type": "execute_result",
          "data": {
            "text/plain": [
              "[0, 2]"
            ]
          },
          "metadata": {},
          "execution_count": 17
        }
      ]
    }
  ]
}