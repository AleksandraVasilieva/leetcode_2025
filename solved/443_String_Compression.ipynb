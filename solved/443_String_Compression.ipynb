{
  "nbformat": 4,
  "nbformat_minor": 0,
  "metadata": {
    "colab": {
      "provenance": [],
      "toc_visible": true
    },
    "kernelspec": {
      "name": "python3",
      "display_name": "Python 3"
    },
    "language_info": {
      "name": "python"
    }
  },
  "cells": [
    {
      "cell_type": "markdown",
      "source": [
        "# 443. String Compression\n",
        "Medium\n",
        "\n",
        "\n",
        "Given an array of characters chars, compress it using the following algorithm:\n",
        "\n",
        "Begin with an empty string s. For each group of consecutive repeating characters in chars:\n",
        "\n",
        "If the group's length is 1, append the character to s.\n",
        "Otherwise, append the character followed by the group's length.\n",
        "The compressed string s should not be returned separately, but instead, be stored in the input character array chars. Note that group lengths that are 10 or longer will be split into multiple characters in chars.\n",
        "\n",
        "After you are done modifying the input array, return the new length of the array.\n",
        "\n",
        "You must write an algorithm that uses only constant extra space.\n",
        "\n",
        "Example 1:\n",
        "\n",
        "Input: chars = [\"a\",\"a\",\"b\",\"b\",\"c\",\"c\",\"c\"]\n",
        "Output: Return 6, and the first 6 characters of the input array should be: [\"a\",\"2\",\"b\",\"2\",\"c\",\"3\"]\n",
        "Explanation: The groups are \"aa\", \"bb\", and \"ccc\". This compresses to \"a2b2c3\".\n",
        "Example 2:\n",
        "\n",
        "Input: chars = [\"a\"]\n",
        "Output: Return 1, and the first character of the input array should be: [\"a\"]\n",
        "Explanation: The only group is \"a\", which remains uncompressed since it's a single character.\n",
        "Example 3:\n",
        "\n",
        "Input: chars = [\"a\",\"b\",\"b\",\"b\",\"b\",\"b\",\"b\",\"b\",\"b\",\"b\",\"b\",\"b\",\"b\"]\n",
        "Output: Return 4, and the first 4 characters of the input array should be: [\"a\",\"b\",\"1\",\"2\"].\n",
        "Explanation: The groups are \"a\" and \"bbbbbbbbbbbb\". This compresses to \"ab12\".\n",
        "\n",
        "\n",
        "Constraints:\n",
        "\n",
        "1 <= chars.length <= 2000\n",
        "chars[i] is a lowercase English letter, uppercase English letter, digit, or symbol."
      ],
      "metadata": {
        "id": "909Va-tnpZiw"
      }
    },
    {
      "cell_type": "code",
      "source": [
        "chars = [\"a\",\"a\",\"b\",\"b\",\"c\",\"c\",\"c\"]"
      ],
      "metadata": {
        "id": "pXLUvJy8ptKw"
      },
      "execution_count": 158,
      "outputs": []
    },
    {
      "cell_type": "code",
      "source": [
        "# not the inplace solution\n",
        "\n",
        "dict_chars = dict(zip(set(chars), [chars.count(i) for i in set(chars)]))\n",
        "\n",
        "answer = ''\n",
        "for letter in dict_chars.keys():\n",
        "  answer += str(letter) + str(dict_chars[letter])\n",
        "\n",
        "chars = list(answer.split())\n",
        "\n",
        "chars"
      ],
      "metadata": {
        "colab": {
          "base_uri": "https://localhost:8080/"
        },
        "id": "S5DLTs83pqus",
        "outputId": "564d1505-0a20-4275-b6d1-45131505a8e7"
      },
      "execution_count": 145,
      "outputs": [
        {
          "output_type": "execute_result",
          "data": {
            "text/plain": [
              "['a2c3b2']"
            ]
          },
          "metadata": {},
          "execution_count": 145
        }
      ]
    },
    {
      "cell_type": "code",
      "source": [
        "chars = [\"a\",\"a\",\"b\",\"b\",\"c\",\"c\",\"c\"]\n",
        "\n",
        "read_index = 0\n",
        "write_index = 0\n",
        "\n",
        "while read_index < len(chars):\n",
        "\n",
        "  character = chars[read_index]\n",
        "  count = 0\n",
        "\n",
        "  while read_index < len(chars) and chars[read_index] == character:\n",
        "      count += 1\n",
        "      read_index += 1\n",
        "\n",
        "  chars[write_index] = character\n",
        "  write_index += 1\n",
        "\n",
        "  if count > 1:\n",
        "    for digit in str(count):\n",
        "      chars[write_index] = digit\n",
        "      write_index +=1\n",
        "\n",
        "\n",
        "chars = chars[:write_index] # [:] for in-place\n",
        "\n",
        "chars"
      ],
      "metadata": {
        "colab": {
          "base_uri": "https://localhost:8080/"
        },
        "id": "Z8_h6bccIHaT",
        "outputId": "2b260705-a40c-4aae-90f2-456f2717fa9e"
      },
      "execution_count": 161,
      "outputs": [
        {
          "output_type": "execute_result",
          "data": {
            "text/plain": [
              "['a', '2', 'b', '2', 'c', '3']"
            ]
          },
          "metadata": {},
          "execution_count": 161
        }
      ]
    }
  ]
}