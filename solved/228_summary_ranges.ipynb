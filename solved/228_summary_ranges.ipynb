{
  "nbformat": 4,
  "nbformat_minor": 0,
  "metadata": {
    "colab": {
      "provenance": [],
      "toc_visible": true
    },
    "kernelspec": {
      "name": "python3",
      "display_name": "Python 3"
    },
    "language_info": {
      "name": "python"
    }
  },
  "cells": [
    {
      "cell_type": "markdown",
      "source": [
        "# 228. Summary Ranges\n",
        "\n",
        "You are given a sorted unique integer array nums.\n",
        "\n",
        "A range [a,b] is the set of all integers from a to b (inclusive).\n",
        "\n",
        "Return the smallest sorted list of ranges that cover all the numbers in the array exactly. That is, each element of nums is covered by exactly one of the ranges, and there is no integer x such that x is in one of the ranges but not in nums.\n",
        "\n",
        "Each range [a,b] in the list should be output as:\n",
        "\n",
        "\"a->b\" if a != b\n",
        "\"a\" if a == b\n",
        "\n",
        "\n",
        "Example 1:\n",
        "\n",
        "Input: nums = [0,1,2,4,5,7]\n",
        "Output: [\"0->2\",\"4->5\",\"7\"]\n",
        "Explanation: The ranges are:\n",
        "[0,2] --> \"0->2\"\n",
        "[4,5] --> \"4->5\"\n",
        "[7,7] --> \"7\"\n",
        "Example 2:\n",
        "\n",
        "Input: nums = [0,2,3,4,6,8,9]\n",
        "Output: [\"0\",\"2->4\",\"6\",\"8->9\"]\n",
        "Explanation: The ranges are:\n",
        "[0,0] --> \"0\"\n",
        "[2,4] --> \"2->4\"\n",
        "[6,6] --> \"6\"\n",
        "[8,9] --> \"8->9\"\n",
        "\n",
        "\n",
        "Constraints:\n",
        "\n",
        "0 <= nums.length <= 20\n",
        "-231 <= nums[i] <= 231 - 1\n",
        "All the values of nums are unique.\n",
        "nums is sorted in ascending order.\n"
      ],
      "metadata": {
        "id": "909Va-tnpZiw"
      }
    },
    {
      "cell_type": "code",
      "source": [
        "#nums = [0,1,2,4,5,7]\n",
        "nums = [0,2,3,4,6,8,9]"
      ],
      "metadata": {
        "id": "pXLUvJy8ptKw"
      },
      "execution_count": 105,
      "outputs": []
    },
    {
      "cell_type": "code",
      "source": [
        "answers = []\n",
        "\n",
        "right = nums[0]\n",
        "left = nums[0]\n",
        "\n",
        "\n",
        "for i, x in enumerate(nums):\n",
        "\n",
        "  if len(nums) == 0:\n",
        "      print([])\n",
        "\n",
        "  # corner\n",
        "  if i + 1 == len(nums):\n",
        "\n",
        "    if x != right:\n",
        "      answers.append(str(x))\n",
        "      break\n",
        "\n",
        "    if left == right:\n",
        "      answers.append(str(left))\n",
        "\n",
        "    if right > left:\n",
        "      answers.append(f\"{left}->{right}\")\n",
        "    break\n",
        "\n",
        "  if x +1 != nums[i+1]:\n",
        "\n",
        "    if right == left:\n",
        "      answers.append(str(x))\n",
        "      left = nums[i+1]\n",
        "      right = nums[i+1]\n",
        "\n",
        "    if right!= left:\n",
        "      answers.append(f\"{left}->{right}\")\n",
        "      left = nums[i+1]\n",
        "      right = nums[i+1]\n",
        "\n",
        "  if x + 1 == nums[i+1]:\n",
        "\n",
        "    right = nums[i+1]\n",
        "\n",
        "\n",
        "print(answers)"
      ],
      "metadata": {
        "colab": {
          "base_uri": "https://localhost:8080/"
        },
        "id": "S5DLTs83pqus",
        "outputId": "240e1da9-008d-47e1-a432-5be90f5c497c"
      },
      "execution_count": 110,
      "outputs": [
        {
          "output_type": "stream",
          "name": "stdout",
          "text": [
            "['0', '2->4', '6', '8->9']\n"
          ]
        }
      ]
    },
    {
      "cell_type": "code",
      "source": [],
      "metadata": {
        "id": "Z8_h6bccIHaT"
      },
      "execution_count": null,
      "outputs": []
    }
  ]
}