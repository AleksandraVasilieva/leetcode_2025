{
  "nbformat": 4,
  "nbformat_minor": 0,
  "metadata": {
    "colab": {
      "provenance": [],
      "toc_visible": true
    },
    "kernelspec": {
      "name": "python3",
      "display_name": "Python 3"
    },
    "language_info": {
      "name": "python"
    }
  },
  "cells": [
    {
      "cell_type": "markdown",
      "source": [
        "# 125. Valid Palindrome\n",
        "\n",
        "A phrase is a palindrome if, after converting all uppercase letters into lowercase letters and removing all non-alphanumeric characters, it reads the same forward and backward. Alphanumeric characters include letters and numbers.\n",
        "\n",
        "Given a string s, return true if it is a palindrome, or false otherwise.\n",
        "\n",
        "\n",
        "\n",
        "Example 1:\n",
        "\n",
        "Input: s = \"A man, a plan, a canal: Panama\"\n",
        "Output: true\n",
        "Explanation: \"amanaplanacanalpanama\" is a palindrome.\n",
        "Example 2:\n",
        "\n",
        "Input: s = \"race a car\"\n",
        "Output: false\n",
        "Explanation: \"raceacar\" is not a palindrome.\n",
        "Example 3:\n",
        "\n",
        "Input: s = \" \"\n",
        "Output: true\n",
        "Explanation: s is an empty string \"\" after removing non-alphanumeric characters.\n",
        "Since an empty string reads the same forward and backward, it is a palindrome.\n",
        "\n",
        "\n",
        "Constraints:\n",
        "\n",
        "1 <= s.length <= 2 * 105\n",
        "s consists only of printable ASCII characters."
      ],
      "metadata": {
        "id": "909Va-tnpZiw"
      }
    },
    {
      "cell_type": "code",
      "source": [
        "s = \"A man, a plan, a canal: Panama\"\n",
        "s.split(\" \"), s.lower()"
      ],
      "metadata": {
        "colab": {
          "base_uri": "https://localhost:8080/"
        },
        "id": "mkANx4H2Rbj3",
        "outputId": "ae267538-f51a-4823-ab27-c52b4f4e3e64"
      },
      "execution_count": 46,
      "outputs": [
        {
          "output_type": "execute_result",
          "data": {
            "text/plain": [
              "(['A', 'man,', 'a', 'plan,', 'a', 'canal:', 'Panama'],\n",
              " 'a man, a plan, a canal: panama')"
            ]
          },
          "metadata": {},
          "execution_count": 46
        }
      ]
    },
    {
      "cell_type": "code",
      "source": [
        "s_new = \"\".join([i for i in s.lower() if i.isalnum()])\n",
        "\n",
        "s_new == s_new[::-1]\n",
        "\n",
        "# .isalnum() checks if i is a digit or a number\n",
        "# other options: .isnumeric(), .isdigit(), .isalpha()"
      ],
      "metadata": {
        "id": "pXLUvJy8ptKw",
        "colab": {
          "base_uri": "https://localhost:8080/"
        },
        "outputId": "1ac15660-5de6-480a-f8c0-9ed84f38bc01"
      },
      "execution_count": 47,
      "outputs": [
        {
          "output_type": "execute_result",
          "data": {
            "text/plain": [
              "True"
            ]
          },
          "metadata": {},
          "execution_count": 47
        }
      ]
    }
  ]
}