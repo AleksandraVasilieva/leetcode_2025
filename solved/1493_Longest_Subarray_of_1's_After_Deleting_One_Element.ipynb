{
  "nbformat": 4,
  "nbformat_minor": 0,
  "metadata": {
    "colab": {
      "provenance": [],
      "toc_visible": true
    },
    "kernelspec": {
      "name": "python3",
      "display_name": "Python 3"
    },
    "language_info": {
      "name": "python"
    }
  },
  "cells": [
    {
      "cell_type": "markdown",
      "source": [
        "# 1493. Longest Subarray of 1's After Deleting One Element\n",
        "\n"
      ],
      "metadata": {
        "id": "909Va-tnpZiw"
      }
    },
    {
      "cell_type": "code",
      "source": [
        "# exceeds time limit, o(n^2))\n",
        "\n",
        "\n",
        "#nums = [1,1,0,1]  # 3\n",
        "\n",
        "nums = [0,1,1,1,0,1,1,0,1]  # 5\n",
        "\n",
        "# nums = [1,1,1]  # 3\n",
        "\n",
        "\n",
        "current_window = []\n",
        "current_max = 0\n",
        "delete_sign = int(1 if len(nums) == sum(nums) else 0)\n",
        "\n",
        "\n",
        "for i, right in enumerate(nums):\n",
        "\n",
        "  current_window = nums[:i+1]\n",
        "  if len(current_window) - sum(current_window) <= 1  and sum(current_window) > current_max:\n",
        "    current_max = sum(current_window)\n",
        "\n",
        "\n",
        "  for left in range(i, 0, -1):\n",
        "    current_window = nums[left:i+1]\n",
        "    if len(current_window) - sum(current_window) <= 1 and sum(current_window) > current_max:\n",
        "      current_max = sum(current_window)\n",
        "\n",
        "\n",
        "\n",
        "current_max - delete_sign"
      ],
      "metadata": {
        "colab": {
          "base_uri": "https://localhost:8080/"
        },
        "id": "61S_IWeCQv1W",
        "outputId": "4ad37a0e-8c1a-4a0a-9e47-6e80ee29e12a"
      },
      "execution_count": null,
      "outputs": [
        {
          "output_type": "execute_result",
          "data": {
            "text/plain": [
              "5"
            ]
          },
          "metadata": {},
          "execution_count": 21
        }
      ]
    },
    {
      "cell_type": "code",
      "source": [
        "# idea: calculate longest distance between possible three zeros\n",
        "\n",
        "\n",
        "#nums = [1,1,0,1]  # 3\n",
        "\n",
        "nums = [0,1,1,1,0,1,1,0,1]  # 5\n",
        "\n",
        "# nums = [1,1,1]  # 3\n",
        "\n",
        "left = 0\n",
        "right = 0\n",
        "current_max = 0\n",
        "zero_count = 0\n",
        "\n",
        "for right in range(len(nums)):\n",
        "\n",
        "    if nums[right] == 0:\n",
        "        zero_count += 1\n",
        "\n",
        "    while zero_count >= 2:\n",
        "        if nums[left] == 0:\n",
        "            zero_count -= 1\n",
        "        left += 1\n",
        "\n",
        "    current_max = max(current_max, right - left)\n",
        "\n",
        "current_max"
      ],
      "metadata": {
        "colab": {
          "base_uri": "https://localhost:8080/"
        },
        "id": "sEgtOh3IWd7u",
        "outputId": "7ae6b226-0882-486e-ce81-97b2afff28cd"
      },
      "execution_count": 2,
      "outputs": [
        {
          "output_type": "execute_result",
          "data": {
            "text/plain": [
              "5"
            ]
          },
          "metadata": {},
          "execution_count": 2
        }
      ]
    }
  ]
}