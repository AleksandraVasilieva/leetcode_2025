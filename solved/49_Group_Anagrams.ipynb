{
  "nbformat": 4,
  "nbformat_minor": 0,
  "metadata": {
    "colab": {
      "provenance": [],
      "toc_visible": true
    },
    "kernelspec": {
      "name": "python3",
      "display_name": "Python 3"
    },
    "language_info": {
      "name": "python"
    }
  },
  "cells": [
    {
      "cell_type": "markdown",
      "source": [
        "# 49. Group Anagrams\n",
        "\n",
        "Given an array of strings strs, group the anagrams together. You can return the answer in any order.\n",
        "\n",
        "\n",
        "\n",
        "Example 1:\n",
        "\n",
        "Input: strs = [\"eat\",\"tea\",\"tan\",\"ate\",\"nat\",\"bat\"]\n",
        "\n",
        "Output: [[\"bat\"],[\"nat\",\"tan\"],[\"ate\",\"eat\",\"tea\"]]\n",
        "\n",
        "Explanation:\n",
        "\n",
        "There is no string in strs that can be rearranged to form \"bat\".\n",
        "The strings \"nat\" and \"tan\" are anagrams as they can be rearranged to form each other.\n",
        "The strings \"ate\", \"eat\", and \"tea\" are anagrams as they can be rearranged to form each other.\n",
        "Example 2:\n",
        "\n",
        "Input: strs = [\"\"]\n",
        "\n",
        "Output: [[\"\"]]\n",
        "\n",
        "Example 3:\n",
        "\n",
        "Input: strs = [\"a\"]\n",
        "\n",
        "Output: [[\"a\"]]\n",
        "\n",
        "\n",
        "\n",
        "Constraints:\n",
        "\n",
        "1 <= strs.length <= 104\n",
        "0 <= strs[i].length <= 100\n",
        "strs[i] consists of lowercase English letters."
      ],
      "metadata": {
        "id": "909Va-tnpZiw"
      }
    },
    {
      "cell_type": "code",
      "source": [
        "''.join(sorted(list('cabc')))"
      ],
      "metadata": {
        "colab": {
          "base_uri": "https://localhost:8080/",
          "height": 35
        },
        "id": "Fufn8Uu8hhR1",
        "outputId": "3be851de-b913-495c-8b20-1801a437b6d6"
      },
      "execution_count": 19,
      "outputs": [
        {
          "output_type": "execute_result",
          "data": {
            "text/plain": [
              "'abcc'"
            ],
            "application/vnd.google.colaboratory.intrinsic+json": {
              "type": "string"
            }
          },
          "metadata": {},
          "execution_count": 19
        }
      ]
    },
    {
      "cell_type": "code",
      "source": [
        "strs = [\"eat\",\"tea\",\"tan\",\"ate\",\"nat\",\"bat\"]\n",
        "\n",
        "# create a dictionary where a key would be each possible aplhabetically sorted str from data\n",
        "# append dictionary with values of strs that have each given str whrn sorted\n",
        "\n",
        "dict_contents = {}\n",
        "\n",
        "\n",
        "for i in strs:\n",
        "  str_key = ''.join(sorted(list(i)))\n",
        "  if str_key not in dict_contents:\n",
        "    dict_contents[str_key] = []\n",
        "  if str_key in dict_contents:\n",
        "    dict_contents[str_key].append(i)\n",
        "\n",
        "dict_contents\n",
        "\n",
        "answers = []\n",
        "\n",
        "for i in dict_contents:\n",
        "  answers.append(dict_contents[i])\n",
        "\n",
        "answers"
      ],
      "metadata": {
        "colab": {
          "base_uri": "https://localhost:8080/"
        },
        "id": "61S_IWeCQv1W",
        "outputId": "1a80e8fe-179c-41e8-99e8-92a9e169ed6a"
      },
      "execution_count": 23,
      "outputs": [
        {
          "output_type": "execute_result",
          "data": {
            "text/plain": [
              "[['eat', 'tea', 'ate'], ['tan', 'nat'], ['bat']]"
            ]
          },
          "metadata": {},
          "execution_count": 23
        }
      ]
    },
    {
      "cell_type": "code",
      "source": [],
      "metadata": {
        "id": "sEgtOh3IWd7u"
      },
      "execution_count": 2,
      "outputs": []
    }
  ]
}