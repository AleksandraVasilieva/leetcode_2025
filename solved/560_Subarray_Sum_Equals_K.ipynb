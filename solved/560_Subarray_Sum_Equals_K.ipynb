{
  "nbformat": 4,
  "nbformat_minor": 0,
  "metadata": {
    "colab": {
      "provenance": [],
      "toc_visible": true
    },
    "kernelspec": {
      "name": "python3",
      "display_name": "Python 3"
    },
    "language_info": {
      "name": "python"
    }
  },
  "cells": [
    {
      "cell_type": "markdown",
      "source": [
        "# 560. Subarray Sum Equals K\n",
        "\n",
        "Given an array of integers nums and an integer k, return the total number of subarrays whose sum equals to k.\n",
        "\n",
        "A subarray is a contiguous non-empty sequence of elements within an array.\n",
        "\n",
        "\n",
        "\n",
        "Example 1:\n",
        "\n",
        "Input: nums = [1,1,1], k = 2\n",
        "Output: 2\n",
        "Example 2:\n",
        "\n",
        "Input: nums = [1,2,3], k = 3\n",
        "Output: 2\n",
        "\n",
        "\n",
        "Constraints:\n",
        "\n",
        "1 <= nums.length <= 2 * 104\n",
        "-1000 <= nums[i] <= 1000\n",
        "-107 <= k <= 107"
      ],
      "metadata": {
        "id": "909Va-tnpZiw"
      }
    },
    {
      "cell_type": "code",
      "source": [
        "nums = [1,1,1]\n",
        "k = 2\n",
        "\n",
        "answer = 0\n",
        "\n",
        "# 1. write a dictionary made of each prefix sums quantity\n",
        "\n",
        "dict_prefix_sums = {0:1}\n",
        "\n",
        "current_prefix_sum = 0\n",
        "\n",
        "for i in nums:\n",
        "\n",
        "  current_prefix_sum += i\n",
        "\n",
        "\n",
        "  if current_prefix_sum - k in dict_prefix_sums.keys():\n",
        "\n",
        "      # prefix_sum[j+1] - prefix_sum[i] == k\n",
        "      # → prefix_sum[i] == prefix_sum[j+1] - k\n",
        "\n",
        "\n",
        "    answer += dict_prefix_sums[current_prefix_sum - k]\n",
        "\n",
        "\n",
        "  dict_prefix_sums[current_prefix_sum] =  dict_prefix_sums.get(current_prefix_sum, 0)+1\n",
        "\n",
        "\n",
        "dict_prefix_sums, answer"
      ],
      "metadata": {
        "colab": {
          "base_uri": "https://localhost:8080/"
        },
        "id": "61S_IWeCQv1W",
        "outputId": "58a4a000-a5c0-4951-b666-7cc4799a5c4c"
      },
      "execution_count": 13,
      "outputs": [
        {
          "output_type": "execute_result",
          "data": {
            "text/plain": [
              "({0: 1, 1: 1, 2: 1, 3: 1}, 2)"
            ]
          },
          "metadata": {},
          "execution_count": 13
        }
      ]
    }
  ]
}