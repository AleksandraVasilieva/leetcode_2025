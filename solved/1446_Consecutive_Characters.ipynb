{
  "nbformat": 4,
  "nbformat_minor": 0,
  "metadata": {
    "colab": {
      "provenance": [],
      "toc_visible": true
    },
    "kernelspec": {
      "name": "python3",
      "display_name": "Python 3"
    },
    "language_info": {
      "name": "python"
    }
  },
  "cells": [
    {
      "cell_type": "markdown",
      "source": [
        "# 1446. Consecutive Characters\n",
        "\n",
        "The power of the string is the maximum length of a non-empty substring that contains only one unique character.\n",
        "\n",
        "Given a string s, return the power of s.\n",
        "\n",
        "\n",
        "\n",
        "Example 1:\n",
        "\n",
        "Input: s = \"leetcode\"\n",
        "Output: 2\n",
        "Explanation: The substring \"ee\" is of length 2 with the character 'e' only.\n",
        "Example 2:\n",
        "\n",
        "Input: s = \"abbcccddddeeeeedcba\"\n",
        "Output: 5\n",
        "Explanation: The substring \"eeeee\" is of length 5 with the character 'e' only.\n",
        "\n",
        "\n",
        "Constraints:\n",
        "\n",
        "1 <= s.length <= 500\n",
        "s consists of only lowercase English letters."
      ],
      "metadata": {
        "id": "909Va-tnpZiw"
      }
    },
    {
      "cell_type": "code",
      "source": [
        "#s = \"leetcode\"  # 2\n",
        "#s = \"abbcccddddeeeeedcba\"  # 5\n",
        "\n",
        "#s = \"cc\"   # 2\n",
        "\n",
        "max_strike = 1\n",
        "current_strike = 1\n",
        "\n",
        "for i in range(1, len(s)):\n",
        "\n",
        "    if s[i] == s[i-1]:\n",
        "\n",
        "      current_strike += 1\n",
        "      max_strike = max(max_strike, current_strike)\n",
        "\n",
        "    else:\n",
        "      current_strike = 1\n",
        "\n",
        "\n",
        "max_strike"
      ],
      "metadata": {
        "colab": {
          "base_uri": "https://localhost:8080/"
        },
        "id": "61S_IWeCQv1W",
        "outputId": "541727ef-c726-44a2-a833-504d56122ff7"
      },
      "execution_count": 54,
      "outputs": [
        {
          "output_type": "execute_result",
          "data": {
            "text/plain": [
              "5"
            ]
          },
          "metadata": {},
          "execution_count": 54
        }
      ]
    }
  ]
}